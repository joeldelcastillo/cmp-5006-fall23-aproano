{
 "cells": [
  {
   "cell_type": "markdown",
   "id": "4eca6eff",
   "metadata": {
    "slideshow": {
     "slide_type": "slide"
    }
   },
   "source": [
    "# Cybersecurity\n",
    "\n",
    "### CMP-5006\n",
    "\n",
    "### Alejandro Proano, PhD"
   ]
  },
  {
   "cell_type": "markdown",
   "id": "faa80636",
   "metadata": {
    "slideshow": {
     "slide_type": "slide"
    }
   },
   "source": [
    "## Cryptography\n",
    "\n",
    "Cryptography is the practice of securing communication by converting plain text into an unreadable format, known as ciphertext, using various mathematical algorithms. It ensures the confidentiality, integrity, and authenticity of data by making it difficult for unauthorized individuals to access or modify the information.\n"
   ]
  },
  {
   "cell_type": "markdown",
   "id": "e9f2dfb0",
   "metadata": {
    "slideshow": {
     "slide_type": "slide"
    }
   },
   "source": [
    "\n",
    "## Applications of Cryptography\n",
    "\n",
    "1. **Secure Communication**: Cryptography is widely used in secure communication protocols such as Secure Sockets Layer (SSL) and Transport Layer Security (TLS). These protocols encrypt data transmitted over the internet, ensuring that sensitive information like passwords, credit card details, and personal data remain confidential and protected from eavesdropping.\n",
    "\n",
    "2. **Password Storage**: When storing passwords in databases, it is crucial to protect them from unauthorized access. Cryptographic hash functions like bcrypt or SHA-256 are used to convert passwords into irreversible hash values. This way, even if the database is compromised, the original passwords cannot be easily retrieved.\n",
    "\n",
    "3. **Digital Signatures**: Cryptography is used to create digital signatures, which provide proof of authenticity and integrity for digital documents or messages. By using asymmetric encryption algorithms, a sender can encrypt a document with their private key, and the recipient can verify the signature using the sender's public key. This ensures that the document has not been tampered with and originated from the claimed sender."
   ]
  },
  {
   "cell_type": "markdown",
   "id": "e61a510c",
   "metadata": {
    "slideshow": {
     "slide_type": "subslide"
    }
   },
   "source": [
    "\n",
    "4. **Virtual Private Networks (VPNs)**: VPNs use cryptography to create secure tunnels for transmitting data over public networks. By encrypting the data packets, VPNs ensure that the information remains confidential and protected from unauthorized access. This is particularly important when accessing sensitive corporate networks remotely or when using public Wi-Fi networks.\n",
    "\n",
    "5. **Blockchain Technology**: Cryptography plays a vital role in securing blockchain networks. It is used to create digital signatures, hash functions, and consensus algorithms that ensure the integrity and immutability of the blockchain. Cryptography enables secure transactions, prevents double-spending, and maintains the overall security of the decentralized network."
   ]
  },
  {
   "cell_type": "markdown",
   "id": "393878d5",
   "metadata": {
    "slideshow": {
     "slide_type": "slide"
    }
   },
   "source": [
    "## Elements of Cryptography\n",
    "\n",
    "1. **Plaintext:** Plaintext refers to the original message or data that is in a readable and understandable format. It is the information that needs to be protected from unauthorized access.\n",
    "\n",
    "2. **Ciphertext:** Ciphertext is the encrypted form of the plaintext. It is the result of applying cryptographic algorithms and techniques to the plaintext, making it unintelligible to anyone without the proper decryption key.\n",
    "\n",
    "3. **Key:** A key is a piece of information used in the encryption and decryption processes. It is a parameter that determines the specific transformation of the plaintext into ciphertext and vice versa. The key is essential for both encrypting and decrypting the message.\n",
    "\n",
    "4. **Encryption Algorithm:** An encryption algorithm is a set of mathematical rules and procedures used to convert plaintext into ciphertext. It defines the specific steps and operations required to transform the data securely.\n",
    "\n",
    "5. **Decryption Algorithm:** A decryption algorithm is the reverse of the encryption algorithm. It is used to convert the ciphertext back into plaintext using the same key that was used for encryption. The decryption algorithm follows a specific set of rules to reverse the encryption process."
   ]
  },
  {
   "cell_type": "markdown",
   "id": "5996a132",
   "metadata": {
    "slideshow": {
     "slide_type": "slide"
    }
   },
   "source": [
    "## Types of Cryptography\n",
    "\n",
    "1. **Symmetric Cryptography**\n",
    "   - Uses a single key for both encryption and decryption\n",
    "   - Examples: Data Encryption Standard (DES), Advanced Encryption Standard (AES)\n",
    "\n",
    "2. **Asymmetric Cryptography**\n",
    "   - Uses a pair of keys: public key for encryption and private key for decryption\n",
    "   - Examples: RSA, Elliptic Curve Cryptography (ECC)\n",
    "\n",
    "3. **Hash Functions**\n",
    "   - Converts data of any size into a fixed-size hash value\n",
    "   - Examples: MD5, SHA-256"
   ]
  },
  {
   "cell_type": "markdown",
   "id": "58ab848d",
   "metadata": {
    "slideshow": {
     "slide_type": "slide"
    }
   },
   "source": [
    "## History of Cryptography\n",
    "\n",
    "Cryptography, the practice of secure communication, has a long and fascinating history. Throughout the ages, individuals and organizations have used various techniques to protect their sensitive information from unauthorized access."
   ]
  },
  {
   "cell_type": "markdown",
   "id": "a405885d",
   "metadata": {
    "slideshow": {
     "slide_type": "subslide"
    }
   },
   "source": [
    "## 1. Ancient Egypt: \n",
    "The Egyptians used hieroglyphics to encode their messages. They would often substitute symbols or use complex patterns to hide the true meaning of their texts.\n",
    "\n",
    "![](./images/tomb-substitution.webp) "
   ]
  },
  {
   "cell_type": "markdown",
   "id": "89d1579b",
   "metadata": {
    "slideshow": {
     "slide_type": "subslide"
    }
   },
   "source": [
    "## 2. Julius Caesar:\n",
    " The Roman emperor, Julius Caesar, used a simple substitution cipher known as the Caesar cipher. He would shift each letter in the alphabet by a fixed number of positions to encrypt his messages.\n",
    "\n",
    "## 3. Mary, Queen of Scots: \n",
    "\n",
    "During her imprisonment, Mary, Queen of Scots, used a cipher called the Babington Plot cipher to communicate secretly with her supporters. This cipher involved using a grid to substitute letters with numbers."
   ]
  },
  {
   "cell_type": "markdown",
   "id": "46a5b7f6",
   "metadata": {
    "slideshow": {
     "slide_type": "subslide"
    }
   },
   "source": [
    "## 4. World War II: \n",
    "\n",
    "The Enigma machine, developed by the Germans, was a complex encryption device used to secure their military communications. It involved a series of rotors and plugboard connections to encrypt and decrypt messages.\n",
    "\n",
    "![](./images/enigmamachinelabeled.jpg) "
   ]
  },
  {
   "cell_type": "markdown",
   "id": "64000a53",
   "metadata": {
    "slideshow": {
     "slide_type": "subslide"
    }
   },
   "source": [
    "## 5. Modern Cryptography: \n",
    "\n",
    "With the advent of computers, cryptography has evolved significantly. Today, we use advanced algorithms and mathematical principles to ensure secure communication over the internet."
   ]
  },
  {
   "cell_type": "markdown",
   "id": "a17d7ea6",
   "metadata": {
    "slideshow": {
     "slide_type": "slide"
    }
   },
   "source": [
    "## Classic Cryptography\n",
    "\n",
    "Classic cryptography refers to the traditional methods of encrypting and decrypting messages that were used before the advent of modern computer-based encryption algorithms. These techniques have been employed for centuries to ensure the confidentiality and integrity of sensitive information. Classic cryptography primarily involves the use of substitution and transposition techniques to transform plaintext into ciphertext.\n",
    "\n",
    "    - Shift cipher\n",
    "    - Substitution cipher\n",
    "    - Affine cipher\n",
    "    - Vigenere cipher\n",
    "    - Hill cipher\n",
    "    - Permutation cipher\n",
    "    - Stream ciphers"
   ]
  },
  {
   "cell_type": "markdown",
   "id": "48594efc",
   "metadata": {
    "slideshow": {
     "slide_type": "slide"
    }
   },
   "source": [
    "## Caesar Cipher Implementation\n",
    "\n",
    "The Caesar cipher is a simple substitution cipher that is used to encrypt and decrypt messages. It works by shifting the letters of the plaintext by a certain number of positions in the alphabet. This number is known as the key or the shift."
   ]
  },
  {
   "cell_type": "markdown",
   "id": "d75114c2",
   "metadata": {
    "slideshow": {
     "slide_type": "subslide"
    }
   },
   "source": [
    "## Example\n",
    "\n",
    "Let's consider an example where the plaintext message is \"HELLO\" and the key is 3.\n",
    "\n",
    "### Encryption\n",
    "\n",
    "1. Convert the plaintext to uppercase: \"HELLO\".\n",
    "2. Iterate through each letter:\n",
    "   - \"H\" -> position 7 -> 7 + 3 = 10 -> 10 % 26 = 10 -> \"J\"\n",
    "   - \"E\" -> position 4 -> 4 + 3 = 7 -> 7 % 26 = 7 -> \"H\"\n",
    "   - \"L\" -> position 11 -> 11 + 3 = 14 -> 14 % 26 = 14 -> \"O\"\n",
    "   - \"L\" -> position 11 -> 11 + 3 = 14 -> 14 % 26 = 14 -> \"O\"\n",
    "   - \"O\" -> position 14 -> 14 + 3 = 17 -> 17 % 26 = 17 -> \"R\"\n",
    "3. The ciphertext is \"JHOOO\".\n",
    "\n",
    "### Decryption\n",
    "\n",
    "1. Convert the ciphertext to uppercase: \"JHOOO\".\n",
    "2. Iterate through each letter:\n",
    "   - \"J\" -> position 10 -> 10 - 3 = 7 -> 7 % 26 = 7 -> \"H\"\n",
    "   - \"H\" -> position 7 -> 7 - 3 = 4 -> 4 % 26 = 4 -> \"E\"\n",
    "   - \"O\" -> position 14 -> 14 - 3 = 11 -> 11 % 26 = 11 -> \"L\"\n",
    "   - \"O\" -> position 14 -> 14 - 3 = 11 -> 11 % 26 = 11 -> \"L\"\n",
    "   - \"O\" -> position 14 -> 14 - 3 = 11 -> 11 % 26 = 11 -> \"L\"\n",
    "3. The plaintext is \"HELLO\"."
   ]
  },
  {
   "cell_type": "markdown",
   "id": "00e27b6a",
   "metadata": {
    "slideshow": {
     "slide_type": "subslide"
    }
   },
   "source": [
    "### Encryption Process\n",
    "\n",
    "To encrypt a message using the Caesar cipher, the following steps are performed:\n",
    "\n",
    "1. Convert the plaintext message to uppercase (optional).\n",
    "2. Iterate through each letter in the plaintext message.\n",
    "3. Determine the position of the letter in the alphabet.\n",
    "4. Add the key (shift) to the position.\n",
    "5. Take the modulus of the result with 26 (the number of letters in the alphabet) to ensure the result stays within the range of the alphabet.\n",
    "6. Convert the new position back to a letter.\n",
    "7. Append the encrypted letter to the ciphertext."
   ]
  },
  {
   "cell_type": "markdown",
   "id": "3fbc89d3",
   "metadata": {
    "slideshow": {
     "slide_type": "subslide"
    }
   },
   "source": [
    "## Decryption Process\n",
    "\n",
    "To decrypt a message encrypted with the Caesar cipher, the following steps are performed:\n",
    "\n",
    "1. Convert the ciphertext message to uppercase (optional).\n",
    "2. Iterate through each letter in the ciphertext message.\n",
    "3. Determine the position of the letter in the alphabet.\n",
    "4. Subtract the key (shift) from the position.\n",
    "5. Take the modulus of the result with 26 (the number of letters in the alphabet) to ensure the result stays within the range of the alphabet.\n",
    "6. Convert the new position back to a letter.\n",
    "7. Append the decrypted letter to the plaintext."
   ]
  },
  {
   "cell_type": "markdown",
   "id": "56b5fd1f",
   "metadata": {
    "slideshow": {
     "slide_type": "slide"
    }
   },
   "source": [
    "## Vigenere Cipher Implementation\n",
    "\n",
    "The Vigenere cipher is a polyalphabetic substitution cipher that was invented by Giovan Battista Bellaso in the 16th century. It is a simple and effective way to encrypt and decrypt messages. The cipher uses a series of Caesar ciphers based on the letters of a keyword."
   ]
  },
  {
   "cell_type": "markdown",
   "id": "f0d74a9e",
   "metadata": {
    "slideshow": {
     "slide_type": "subslide"
    }
   },
   "source": [
    "## Example\n",
    "\n",
    "Let's encrypt the plaintext message \"HELLO\" using the keyword \"KEY\" using the Vigenere cipher:\n",
    "\n",
    "Plaintext: H E L L O\n",
    "Keyword: K E Y K E\n",
    "Key numbers: 10 4 24 10 4\n",
    "Plaintext numbers: 7 4 11 11 14\n",
    "\n",
    "Encryption:\n",
    "- H + K = 7 + 10 = 17 (R)\n",
    "- E + E = 4 + 4 = 8 (I)\n",
    "- L + Y = 11 + 24 = 9 (J)\n",
    "- L + K = 11 + 10 = 21 (V)\n",
    "- O + E = 14 + 4 = 18 (S)\n",
    "\n",
    "Ciphertext: R I J V S\n",
    "\n",
    "To decrypt the ciphertext, the same keyword \"KEY\" is used, and the process is reversed to obtain the original plaintext message \"HELLO\".\n",
    "\n",
    "Note: The Vigenere cipher is a relatively weak encryption method and can be easily broken with modern cryptographic techniques. It is mainly used for educational purposes or as a component in more complex encryption algorithms."
   ]
  },
  {
   "cell_type": "markdown",
   "id": "e794ebd0",
   "metadata": {},
   "source": [
    "![vignere-example](./images/vignere-example.png)\n",
    "\n",
    "\n",
    "Ceaser Cypher does not change the language entropy\n",
    "\n",
    "If we wanted to do Frequency analysis, its harder. \n",
    "How to decipher?\n",
    "1. Get the Key Length\n",
    "    - Use Entropy (Information Theory)\n",
    "    - The probability of two letters of meaning something in a language.\n",
    "    - Understand how much disorder there is in a Text\n",
    "\n",
    "![entropy](./images/entropy.png)\n",
    "\n",
    "![entropy-graph](./images/entropy-graph.png)\n",
    "\n",
    "The uncertainty is at most because you are not favouring an outcome. Total disorder, you have no control about the situation.\n",
    "\n",
    "\n",
    "![data-transfer](./images/data-transfer.png)\n",
    "\n",
    "Why do we need 400 Gbps?\n",
    "- Videos only take 10 - 40 Gbps\n",
    "- Within the last 6 months theres been a need for extra information transfer.  WHY?\n",
    "    - Natural Language Processing: Needs to recreate to recreate the human brain. But we only need to recreate language. How we usually communicate.\n",
    "    - To do that we need large amounts of information.\n",
    "    - To be efficient in the way the NPL works needs a lot of networking. The network should not be the bottleneck. \n",
    "    - The cluster of CPU should be \n",
    "\n",
    "![clusters-stock-market](./images/clusters-stock-market.png)\n",
    "\n",
    "The stock trading in NewYork is more expensive because of the connection of\n",
    "    - Make Millions of Dollars in 1s. Reduce the Latency: 1. Be physically close to the market. 2. Fast data Transfer\n",
    "\n"
   ]
  },
  {
   "cell_type": "markdown",
   "id": "36a48a6b",
   "metadata": {},
   "source": []
  },
  {
   "cell_type": "markdown",
   "id": "92d0b411",
   "metadata": {
    "slideshow": {
     "slide_type": "subslide"
    }
   },
   "source": [
    "## Encryption Process\n",
    "\n",
    "To encrypt a plaintext message using the Vigenere cipher, the following steps are performed:\n",
    "\n",
    "1. Choose a keyword: Select a keyword that will be used to encrypt the message. The keyword should be a word or phrase that is easy to remember and not too short.\n",
    "\n",
    "2. Convert the keyword to a key: Convert the keyword into a key by repeating it until it matches the length of the plaintext message. For example, if the keyword is \"KEY\" and the plaintext message is \"HELLO\", the key would be \"KEYKE\".\n",
    "\n",
    "3. Convert the plaintext to numbers: Assign a number to each letter in the plaintext message using a standard numbering system, such as A=0, B=1, C=2, and so on.\n",
    "\n",
    "4. Convert the key to numbers: Assign a number to each letter in the key using the same numbering system.\n",
    "\n",
    "5. Encrypt the message: Add the corresponding numbers of the plaintext and key together, modulo 26. This means that if the sum is greater than 26, subtract 26 from the sum. Convert the resulting numbers back to letters using the same numbering system.\n",
    "\n",
    "6. Repeat the process: Repeat steps 3-5 for each letter in the plaintext message, using the next letter of the key each time.\n",
    "\n",
    "7. Generate the ciphertext: The resulting letters from step 6 form the ciphertext, which is the encrypted message."
   ]
  },
  {
   "cell_type": "markdown",
   "id": "d12d5ddb",
   "metadata": {
    "slideshow": {
     "slide_type": "subslide"
    }
   },
   "source": [
    "## Decryption Process\n",
    "\n",
    "To decrypt a ciphertext message encrypted with the Vigenere cipher, the following steps are performed:\n",
    "\n",
    "1. Choose the same keyword: Use the same keyword that was used to encrypt the message.\n",
    "\n",
    "2. Convert the keyword to a key: Convert the keyword into a key by repeating it until it matches the length of the ciphertext message.\n",
    "\n",
    "3. Convert the ciphertext to numbers: Assign a number to each letter in the ciphertext message using the same numbering system.\n",
    "\n",
    "4. Convert the key to numbers: Assign a number to each letter in the key using the same numbering system.\n",
    "\n",
    "5. Decrypt the message: Subtract the corresponding numbers of the ciphertext and key, modulo 26. This means that if the difference is negative, add 26 to the difference. Convert the resulting numbers back to letters using the same numbering system.\n",
    "\n",
    "6. Repeat the process: Repeat steps 3-5 for each letter in the ciphertext message, using the next letter of the key each time.\n",
    "\n",
    "7. Generate the plaintext: The resulting letters from step 6 form the plaintext, which is the decrypted message."
   ]
  }
 ],
 "metadata": {
  "celltoolbar": "Slideshow",
  "kernelspec": {
   "display_name": "Python 3",
   "language": "python",
   "name": "python3"
  },
  "language_info": {
   "codemirror_mode": {
    "name": "ipython",
    "version": 3
   },
   "file_extension": ".py",
   "mimetype": "text/x-python",
   "name": "python",
   "nbconvert_exporter": "python",
   "pygments_lexer": "ipython3",
   "version": "3.8.8"
  }
 },
 "nbformat": 4,
 "nbformat_minor": 5
}
