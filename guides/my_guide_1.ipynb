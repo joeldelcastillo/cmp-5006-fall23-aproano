{
 "cells": [
  {
   "cell_type": "code",
   "execution_count": null,
   "metadata": {},
   "outputs": [],
   "source": []
  },
  {
   "cell_type": "markdown",
   "metadata": {},
   "source": [
    "### 1. The Shift Cipher\n",
    "\n",
    "1. What is the shift cipher and how does it work?\n",
    "2. How can you encrypt and decrypt messages using the shift cipher?\n",
    "3. What are the limitations and vulnerabilities of the shift cipher?\n",
    "4. Can you provide an example of a real-world application of the shift cipher?\n",
    "5. How does the shift cipher relate to modular arithmetic?"
   ]
  }
 ],
 "metadata": {
  "language_info": {
   "name": "python"
  },
  "orig_nbformat": 4
 },
 "nbformat": 4,
 "nbformat_minor": 2
}
