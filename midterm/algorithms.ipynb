{
 "cells": [
  {
   "cell_type": "markdown",
   "metadata": {},
   "source": [
    "## Shift Cipher"
   ]
  },
  {
   "cell_type": "code",
   "execution_count": 1,
   "metadata": {},
   "outputs": [],
   "source": [
    "def shift_cipher_encrypt(plaintext, shift):\n",
    "    encrypted_text = \"\"\n",
    "    for char in plaintext:\n",
    "        # Check if the character is a letter\n",
    "        if char.isalpha():\n",
    "            # Determine whether the letter is uppercase or lowercase\n",
    "            is_uppercase = char.isupper()\n",
    "            # Convert the letter to uppercase for ease of calculation\n",
    "            char = char.upper()\n",
    "            # Shift the letter by the specified amount\n",
    "            shifted_char = chr((ord(char) - 65 + shift) % 26 + 65)\n",
    "            # Convert the letter back to lowercase if it was originally lowercase\n",
    "            if not is_uppercase:\n",
    "                shifted_char = shifted_char.lower()\n",
    "            # Add the shifted letter to the encrypted text\n",
    "            encrypted_text += shifted_char\n",
    "        else:\n",
    "            # If the character is not a letter, keep it unchanged\n",
    "            encrypted_text += char\n",
    "    return encrypted_text\n"
   ]
  },
  {
   "cell_type": "code",
   "execution_count": 2,
   "metadata": {},
   "outputs": [
    {
     "name": "stdout",
     "output_type": "stream",
     "text": [
      "Ciphertext: Khoor, Zruog!\n"
     ]
    }
   ],
   "source": [
    "plaintext = \"Hello, World!\"\n",
    "shift = 3\n",
    "ciphertext = shift_cipher_encrypt(plaintext, shift)\n",
    "print(\"Ciphertext:\", ciphertext)"
   ]
  },
  {
   "cell_type": "code",
   "execution_count": 3,
   "metadata": {},
   "outputs": [],
   "source": [
    "def shift_cipher_decrypt(ciphertext, shift):\n",
    "    decrypted_text = \"\"\n",
    "    for char in ciphertext:\n",
    "        # Check if the character is a letter\n",
    "        if char.isalpha():\n",
    "            # Determine whether the letter is uppercase or lowercase\n",
    "            is_uppercase = char.isupper()\n",
    "            # Convert the letter to uppercase for ease of calculation\n",
    "            char = char.upper()\n",
    "            # Reverse the shift operation by subtracting the shift value\n",
    "            shifted_char = chr((ord(char) - 65 - shift) % 26 + 65)\n",
    "            # Convert the letter back to lowercase if it was originally lowercase\n",
    "            if not is_uppercase:\n",
    "                shifted_char = shifted_char.lower()\n",
    "            # Add the shifted letter to the decrypted text\n",
    "            decrypted_text += shifted_char\n",
    "        else:\n",
    "            # If the character is not a letter, keep it unchanged\n",
    "            decrypted_text += char\n",
    "    return decrypted_text\n"
   ]
  },
  {
   "cell_type": "code",
   "execution_count": 4,
   "metadata": {},
   "outputs": [
    {
     "name": "stdout",
     "output_type": "stream",
     "text": [
      "Decrypted Text: Hello, World!\n"
     ]
    }
   ],
   "source": [
    "ciphertext = \"Khoor, Zruog!\"\n",
    "shift = 3\n",
    "decrypted_text = shift_cipher_decrypt(ciphertext, shift)\n",
    "print(\"Decrypted Text:\", decrypted_text)"
   ]
  },
  {
   "cell_type": "markdown",
   "metadata": {},
   "source": [
    "## Substitution Cipher"
   ]
  },
  {
   "cell_type": "code",
   "execution_count": 5,
   "metadata": {},
   "outputs": [
    {
     "name": "stdout",
     "output_type": "stream",
     "text": [
      "Ciphertext: Ltzze, Cekzg!\n"
     ]
    }
   ],
   "source": [
    "def substitution_cipher_encrypt(plaintext, key):\n",
    "    # Create a dictionary for the substitution key\n",
    "    substitution_dict = {chr(65 + i): key[i] for i in range(26)}\n",
    "    encrypted_text = \"\"\n",
    "    for char in plaintext:\n",
    "        # Check if the character is a letter\n",
    "        if char.isalpha():\n",
    "            # Determine whether the letter is uppercase or lowercase\n",
    "            is_uppercase = char.isupper()\n",
    "            # Convert the letter to uppercase for ease of substitution\n",
    "            char = char.upper()\n",
    "            # Substitute the letter using the key\n",
    "            substituted_char = substitution_dict.get(char, char)\n",
    "            # Convert the letter back to lowercase if it was originally lowercase\n",
    "            if not is_uppercase:\n",
    "                substituted_char = substituted_char.lower()\n",
    "            # Add the substituted letter to the encrypted text\n",
    "            encrypted_text += substituted_char\n",
    "        else:\n",
    "            # If the character is not a letter, keep it unchanged\n",
    "            encrypted_text += char\n",
    "    return encrypted_text\n",
    "\n"
   ]
  },
  {
   "cell_type": "code",
   "execution_count": 7,
   "metadata": {},
   "outputs": [
    {
     "name": "stdout",
     "output_type": "stream",
     "text": [
      "Decrypted Text: Hello, World!\n"
     ]
    }
   ],
   "source": [
    "def substitution_cipher_decrypt(ciphertext, key):\n",
    "    # Create a dictionary for the reverse substitution key\n",
    "    reverse_substitution_dict = {key[i]: chr(65 + i) for i in range(26)}\n",
    "    decrypted_text = \"\"\n",
    "    for char in ciphertext:\n",
    "        # Check if the character is a letter\n",
    "        if char.isalpha():\n",
    "            # Determine whether the letter is uppercase or lowercase\n",
    "            is_uppercase = char.isupper()\n",
    "            # Convert the letter to uppercase for ease of substitution\n",
    "            char = char.upper()\n",
    "            # Reverse substitute the letter using the key\n",
    "            reverse_substituted_char = reverse_substitution_dict.get(char, char)\n",
    "            # Convert the letter back to lowercase if it was originally lowercase\n",
    "            if not is_uppercase:\n",
    "                reverse_substituted_char = reverse_substituted_char.lower()\n",
    "            # Add the reverse substituted letter to the decrypted text\n",
    "            decrypted_text += reverse_substituted_char\n",
    "        else:\n",
    "            # If the character is not a letter, keep it unchanged\n",
    "            decrypted_text += char\n",
    "    return decrypted_text"
   ]
  },
  {
   "cell_type": "code",
   "execution_count": 8,
   "metadata": {},
   "outputs": [
    {
     "name": "stdout",
     "output_type": "stream",
     "text": [
      "Ciphertext: Ltzze, Cekzg!\n",
      "Decrypted Text: Hello, World!\n"
     ]
    }
   ],
   "source": [
    "# Example usage\n",
    "plaintext = \"Hello, World!\"\n",
    "key = \"XPMGTDHLYONZBWEARKJUFSCIQV\"\n",
    "ciphertext = substitution_cipher_encrypt(plaintext, key)\n",
    "print(\"Ciphertext:\", ciphertext)\n",
    "\n",
    "\n",
    "decrypted_text = substitution_cipher_decrypt(ciphertext, key)\n",
    "print(\"Decrypted Text:\", decrypted_text)"
   ]
  },
  {
   "cell_type": "markdown",
   "metadata": {},
   "source": [
    "## Affine Cipher\n",
    "\n",
    "$$\n",
    "E(x) = (ax+b) \\; mod \\; 26\n",
    "$$"
   ]
  },
  {
   "cell_type": "code",
   "execution_count": 9,
   "metadata": {},
   "outputs": [],
   "source": [
    "def affine_cipher_encrypt(plaintext, a, b):\n",
    "    encrypted_text = \"\"\n",
    "    for char in plaintext:\n",
    "        # Check if the character is a letter\n",
    "        if char.isalpha():\n",
    "            # Determine whether the letter is uppercase or lowercase\n",
    "            is_uppercase = char.isupper()\n",
    "            # Convert the letter to uppercase for ease of calculation\n",
    "            char = char.upper()\n",
    "            # Convert the letter to its numerical equivalent (0 to 25)\n",
    "            num = ord(char) - 65\n",
    "            # Apply the affine encryption formula\n",
    "            encrypted_num = (a * num + b) % 26\n",
    "            # Convert the encrypted number back to a letter\n",
    "            encrypted_char = chr(encrypted_num + 65)\n",
    "            # Convert the letter back to lowercase if it was originally lowercase\n",
    "            if not is_uppercase:\n",
    "                encrypted_char = encrypted_char.lower()\n",
    "            # Add the encrypted letter to the encrypted text\n",
    "            encrypted_text += encrypted_char\n",
    "        else:\n",
    "            # If the character is not a letter, keep it unchanged\n",
    "            encrypted_text += char\n",
    "    return encrypted_text\n",
    "\n"
   ]
  },
  {
   "cell_type": "code",
   "execution_count": 11,
   "metadata": {},
   "outputs": [],
   "source": [
    "def mod_inverse(a, m):\n",
    "    # Calculate the modular multiplicative inverse of a modulo m using extended Euclidean algorithm\n",
    "    for x in range(1, m):\n",
    "        if (a * x) % m == 1:\n",
    "            return x\n",
    "    return None\n",
    "\n",
    "def affine_cipher_decrypt(ciphertext, a, b):\n",
    "    # Calculate the modular multiplicative inverse of a modulo 26\n",
    "    a_inverse = mod_inverse(a, 26)\n",
    "    if a_inverse is None:\n",
    "        return \"Invalid 'a' value. Modular inverse does not exist.\"\n",
    "    \n",
    "    decrypted_text = \"\"\n",
    "    for char in ciphertext:\n",
    "        # Check if the character is a letter\n",
    "        if char.isalpha():\n",
    "            # Determine whether the letter is uppercase or lowercase\n",
    "            is_uppercase = char.isupper()\n",
    "            # Convert the letter to uppercase for ease of calculation\n",
    "            char = char.upper()\n",
    "            # Convert the letter to its numerical equivalent (0 to 25)\n",
    "            num = ord(char) - 65\n",
    "            # Apply the affine decryption formula\n",
    "            decrypted_num = (a_inverse * (num - b)) % 26\n",
    "            # Convert the decrypted number back to a letter\n",
    "            decrypted_char = chr(decrypted_num + 65)\n",
    "            # Convert the letter back to lowercase if it was originally lowercase\n",
    "            if not is_uppercase:\n",
    "                decrypted_char = decrypted_char.lower()\n",
    "            # Add the decrypted letter to the decrypted text\n",
    "            decrypted_text += decrypted_char\n",
    "        else:\n",
    "            # If the character is not a letter, keep it unchanged\n",
    "            decrypted_text += char\n",
    "    return decrypted_text\n"
   ]
  },
  {
   "cell_type": "code",
   "execution_count": 12,
   "metadata": {},
   "outputs": [
    {
     "name": "stdout",
     "output_type": "stream",
     "text": [
      "Ciphertext: Rclla, Oaplx!\n",
      "Decrypted Text: Hello, World!\n"
     ]
    }
   ],
   "source": [
    "# Example usage\n",
    "plaintext = \"Hello, World!\"\n",
    "a = 5\n",
    "b = 8\n",
    "ciphertext = affine_cipher_encrypt(plaintext, a, b)\n",
    "print(\"Ciphertext:\", ciphertext)\n",
    "\n",
    "\n",
    "decrypted_text = affine_cipher_decrypt(ciphertext, a, b)\n",
    "print(\"Decrypted Text:\", decrypted_text)"
   ]
  },
  {
   "cell_type": "markdown",
   "metadata": {},
   "source": [
    "## Hill Cipher\n",
    "\n",
    "Uses a matrix for the cipher"
   ]
  },
  {
   "cell_type": "code",
   "execution_count": 19,
   "metadata": {},
   "outputs": [],
   "source": [
    "import numpy as np\n",
    "\n",
    "def hill_cipher_encrypt(plaintext, key):\n",
    "    # Convert the plaintext to uppercase and remove spaces\n",
    "    plaintext = plaintext.upper().replace(\" \", \"\")\n",
    "    # Pad the plaintext with 'X' if its length is not a multiple of 2\n",
    "    if len(plaintext) % 2 != 0:\n",
    "        plaintext += 'X'\n",
    "    \n",
    "    # Convert the plaintext to numerical values (A=0, B=1, ..., Z=25)\n",
    "    numerical_values = [ord(char) - 65 for char in plaintext]\n",
    "    # Reshape the numerical values as a 2xN matrix\n",
    "    numerical_matrix = np.array(numerical_values).reshape(2, -1)\n",
    "    # Perform matrix multiplication with the key matrix\n",
    "    encrypted_matrix = np.dot(key, numerical_matrix) % 26\n",
    "    # Convert the encrypted matrix back to a list of numerical values\n",
    "    encrypted_values = encrypted_matrix.flatten().tolist()\n",
    "    # Convert numerical values back to letters\n",
    "    ciphertext = ''.join(chr(value + 65) for value in encrypted_values)\n",
    "    return ciphertext\n"
   ]
  },
  {
   "cell_type": "code",
   "execution_count": 16,
   "metadata": {},
   "outputs": [
    {
     "name": "stdout",
     "output_type": "stream",
     "text": [
      "Decrypted Text: Invalid key. Modular inverse does not exist for the determinant.\n"
     ]
    }
   ],
   "source": [
    "\n",
    "def mod_inverse(a, m):\n",
    "    # Calculate the modular multiplicative inverse of a modulo m using extended Euclidean algorithm\n",
    "    for x in range(1, m):\n",
    "        if (a * x) % m == 1:\n",
    "            return x\n",
    "    return None\n",
    "\n",
    "def hill_cipher_decrypt(ciphertext, key):\n",
    "    # Calculate the modular inverse of the determinant of the key matrix modulo 26\n",
    "    determinant = int(np.round(np.linalg.det(key)))\n",
    "    det_inverse = mod_inverse(determinant % 26, 26)\n",
    "    \n",
    "    # Check if the determinant has a modular inverse, if not, decryption is not possible\n",
    "    if det_inverse is None:\n",
    "        return \"Invalid key. Modular inverse does not exist for the determinant.\"\n",
    "    \n",
    "    # Compute the adjugate of the key matrix\n",
    "    adjugate = np.round(det_inverse * np.linalg.inv(key)).astype(int) % 26\n",
    "    \n",
    "    # Convert the ciphertext to numerical values (A=0, B=1, ..., Z=25)\n",
    "    numerical_values = [ord(char) - 65 for char in ciphertext]\n",
    "    \n",
    "    # Reshape the numerical values as a 2xN matrix\n",
    "    matrix = np.array(numerical_values).reshape(-1, 2)\n",
    "    \n",
    "    # Multiply the matrix with the adjugate of the key matrix modulo 26\n",
    "    decrypted_matrix = np.dot(matrix, adjugate) % 26\n",
    "    \n",
    "    # Convert the decrypted matrix back to numerical values\n",
    "    decrypted_values = decrypted_matrix.flatten().tolist()\n",
    "    \n",
    "    # Convert numerical values back to letters\n",
    "    plaintext = ''.join(chr(value + 65) for value in decrypted_values)\n",
    "    \n",
    "    return plaintext\n"
   ]
  },
  {
   "cell_type": "code",
   "execution_count": 20,
   "metadata": {},
   "outputs": [
    {
     "name": "stdout",
     "output_type": "stream",
     "text": [
      "Ciphertext: CYVDLRIBDA\n"
     ]
    }
   ],
   "source": [
    "# Example usage\n",
    "plaintext = \"HELLOWORLD\"\n",
    "key = np.array([[2, 3], [1, 4]]) \n",
    "ciphertext = hill_cipher_encrypt(plaintext, key)\n",
    "print(\"Ciphertext:\", ciphertext)"
   ]
  },
  {
   "cell_type": "markdown",
   "metadata": {},
   "source": [
    "## Permutation Cipher"
   ]
  },
  {
   "cell_type": "code",
   "execution_count": 8,
   "metadata": {},
   "outputs": [],
   "source": [
    "def permutation_cipher_decrypt(cipher, ciphertext):\n",
    "    return permutation_cipher_encrypt(inverse_key(cipher), ciphertext)\n",
    "\n",
    "def permutation_cipher_encrypt(cipher, plaintext):\n",
    "    plaintext = \"\".join(plaintext.split(\" \")).upper()\n",
    "    ciphertext = \"\"\n",
    "    for pad in range(0, len(plaintext)%len(cipher)*-1%len(cipher)):\n",
    "        plaintext += \"X\"\n",
    "    for offset in range(0, len(plaintext), len(cipher)):\n",
    "        for element in [a-1 for a in cipher]:\n",
    "            ciphertext += plaintext[offset+element]\n",
    "        ciphertext += \" \"\n",
    "    return ciphertext[:-1]\n",
    "\n",
    "def inverse_key(cipher):\n",
    "    inverse = []\n",
    "    for position in range(min(cipher),max(cipher)+1,1):\n",
    "        inverse.append(cipher.index(position)+1)\n",
    "    return inverse"
   ]
  },
  {
   "cell_type": "code",
   "execution_count": 13,
   "metadata": {},
   "outputs": [
    {
     "name": "stdout",
     "output_type": "stream",
     "text": [
      "LHLEO\n",
      "HELLO\n"
     ]
    }
   ],
   "source": [
    "cipher = [3, 1, 4, 2, 5]\n",
    "plaintext_original = \"HELLO\"\n",
    "ciphertext = permutation_cipher_encrypt(cipher, plaintext_original)\n",
    "print(ciphertext)\n",
    "plaintext = permutation_cipher_decrypt(cipher, ciphertext)\n",
    "print(plaintext)"
   ]
  },
  {
   "cell_type": "markdown",
   "metadata": {},
   "source": [
    "## Modular Inverse"
   ]
  },
  {
   "cell_type": "code",
   "execution_count": 41,
   "metadata": {},
   "outputs": [],
   "source": [
    "def mod_inverse(a, m):\n",
    "    # Calculate the modular multiplicative inverse of a modulo m using extended Euclidean algorithm\n",
    "    for x in range(1, m):\n",
    "        # print(a, \"*\", x, \"%\", m, \"=\" , (a * x) % m)\n",
    "        if (a * x) % m == 1:\n",
    "            return x\n",
    "    return None"
   ]
  },
  {
   "cell_type": "code",
   "execution_count": 29,
   "metadata": {},
   "outputs": [
    {
     "name": "stdout",
     "output_type": "stream",
     "text": [
      "3 * 1 % 11 = 3\n",
      "3 * 2 % 11 = 6\n",
      "3 * 3 % 11 = 9\n",
      "3 * 4 % 11 = 1\n"
     ]
    },
    {
     "data": {
      "text/plain": [
       "4"
      ]
     },
     "execution_count": 29,
     "metadata": {},
     "output_type": "execute_result"
    }
   ],
   "source": [
    "mod_inverse(3, 11)"
   ]
  },
  {
   "cell_type": "markdown",
   "metadata": {},
   "source": [
    "## GCD Extended"
   ]
  },
  {
   "cell_type": "code",
   "execution_count": 3,
   "metadata": {},
   "outputs": [],
   "source": [
    "\n",
    "def gcdExtended(a, b):\n",
    "    global x, y\n",
    " \n",
    "    # Base Case\n",
    "    if (a == 0):\n",
    "        x = 0\n",
    "        y = 1\n",
    "        return b\n",
    " \n",
    "    # To store results of recursive call\n",
    "    print(b, \"%\", a, \"=\", b % a)\n",
    "    gcd = gcdExtended(b % a, a)\n",
    "\n",
    "    x1 = x\n",
    "    y1 = y\n",
    " \n",
    "    # Update x and y using results of recursive\n",
    "    # call\n",
    "    x = y1 - (b // a) * x1\n",
    "    print(y1, \"-\", (b // a), \"*\", x1, \"=\", x)\n",
    "    y = x1\n",
    " \n",
    "    return gcd\n",
    " \n",
    " \n",
    "def euclidean_mod_inverse(A, M):\n",
    " \n",
    "    g = gcdExtended(A, M)\n",
    "    if (g != 1):\n",
    "        return -1\n",
    " \n",
    "    else:\n",
    "        # m is added to handle negative x\n",
    "        res = (x % M + M) % M\n",
    "        print(x, \"%\", M, \"+\", M, \"%\", M, \"=\", res)\n",
    "        return res\n",
    " "
   ]
  },
  {
   "cell_type": "code",
   "execution_count": 9,
   "metadata": {},
   "outputs": [
    {
     "name": "stdout",
     "output_type": "stream",
     "text": [
      "352 % 135 = 82\n",
      "135 % 82 = 53\n",
      "82 % 53 = 29\n",
      "53 % 29 = 24\n",
      "29 % 24 = 5\n",
      "24 % 5 = 4\n",
      "5 % 4 = 1\n",
      "4 % 1 = 0\n",
      "1 - 4 * 0 = 1\n",
      "0 - 1 * 1 = -1\n",
      "1 - 4 * -1 = 5\n",
      "-1 - 1 * 5 = -6\n",
      "5 - 1 * -6 = 11\n",
      "-6 - 1 * 11 = -17\n",
      "11 - 1 * -17 = 28\n",
      "-17 - 2 * 28 = -73\n",
      "-73 % 352 + 352 % 352 = 279\n"
     ]
    },
    {
     "data": {
      "text/plain": [
       "279"
      ]
     },
     "execution_count": 9,
     "metadata": {},
     "output_type": "execute_result"
    }
   ],
   "source": [
    "\n",
    "# Function call\n",
    "euclidean_mod_inverse(135, 352)"
   ]
  },
  {
   "cell_type": "markdown",
   "metadata": {},
   "source": [
    "## Public and Private KEys using Euclidean Algorithm"
   ]
  },
  {
   "cell_type": "code",
   "execution_count": 43,
   "metadata": {},
   "outputs": [],
   "source": [
    "import random\n",
    "def gcd(a, b):\n",
    "    while b != 0:\n",
    "        a, b = b, a % b\n",
    "    return a\n",
    "\n",
    "def generate_keypair(p, q):\n",
    "  \n",
    "    # Step 2: Calculate N and phi(N)\n",
    "    N = p * q\n",
    "    print(\"N:\", N)\n",
    "    phi_N = (p - 1) * (q - 1)\n",
    "    print('p-1:', p-1, 'q-1:', q-1, 'phi_N:', phi_N)\n",
    "    \n",
    "    # Step 3: Choose public exponent (e)\n",
    "    # e = random.randrange(2, phi_N)\n",
    "    # while gcd(e, phi_N) != 1:\n",
    "    #     e = random.randrange(2, phi_N)\n",
    "    # print(\"e:\", e)\n",
    "    e = 3221\n",
    "    \n",
    "    # Step 4: Find private exponent (d) using the Euclidean algorithm\n",
    "    d = euclidean_mod_inverse(e, phi_N)\n",
    "    print('d:', d)\n",
    "    \n",
    "    # Public and Private Keys\n",
    "    public_key = (N, e)\n",
    "    print('public_key:', public_key)\n",
    "    private_key = (N, d)\n",
    "    print('private_key:', private_key)\n",
    "    \n",
    "    return public_key, private_key"
   ]
  },
  {
   "cell_type": "code",
   "execution_count": 44,
   "metadata": {},
   "outputs": [
    {
     "name": "stdout",
     "output_type": "stream",
     "text": [
      "N: 81317\n",
      "p-1: 232 q-1: 348 phi_N: 80736\n",
      "80736 % 3221 = 211\n",
      "3221 % 211 = 56\n",
      "211 % 56 = 43\n",
      "56 % 43 = 13\n",
      "43 % 13 = 4\n",
      "13 % 4 = 1\n",
      "4 % 1 = 0\n",
      "1 - 4 * 0 = 1\n",
      "0 - 3 * 1 = -3\n",
      "1 - 3 * -3 = 10\n",
      "-3 - 1 * 10 = -13\n",
      "10 - 3 * -13 = 49\n",
      "-13 - 15 * 49 = -748\n",
      "49 - 25 * -748 = 18749\n",
      "18749 % 80736 + 80736 % 80736 = 18749\n",
      "d: 18749\n",
      "public_key: (81317, 3221)\n",
      "private_key: (81317, 18749)\n",
      "Encrypted message is 59208\n",
      "Decrypted message is 123\n"
     ]
    }
   ],
   "source": [
    "keys = generate_keypair(233, 349)\n",
    "e = keys[0][1]\n",
    "d = keys[1][1]\n",
    "n = keys[0][0]\n",
    "\n",
    "message = 123\n",
    "# performing encryption\n",
    "ct = (message ** e) % n\n",
    "print(f\"Encrypted message is {ct}\")\n",
    "\n",
    "# performing decryption\n",
    "mes = (ct ** d) % n\n",
    "print(f\"Decrypted message is {mes}\")"
   ]
  },
  {
   "cell_type": "code",
   "execution_count": 52,
   "metadata": {},
   "outputs": [
    {
     "name": "stdout",
     "output_type": "stream",
     "text": [
      "Encrypted message is 1394\n",
      "Decrypted message is 77.0\n",
      "Encrypted message is 23\n",
      "Decrypted message is 23.0\n"
     ]
    }
   ],
   "source": [
    "from math import gcd\n",
    "\n",
    "# defining a function to perform RSA approch\n",
    "def RSA(p: int, q: int, message: int):\n",
    "    # calculating n\n",
    "    n = p * q\n",
    "\n",
    "    # calculating totient, t\n",
    "    t = (p - 1) * (q - 1)\n",
    "\n",
    "    # selecting public key, e\n",
    "    print('Selecting public key e: ')\n",
    "    for i in range(2, t):\n",
    "        print(\"trying e = \", i)\n",
    "        if gcd(i, t) == 1:\n",
    "            e = i\n",
    "            print(f\"Selected public key e = {e}\")\n",
    "            break\n",
    "    \n",
    "    j = 0\n",
    "    print('Selecting private key d: ')\n",
    "    while True:\n",
    "        print(\"trying d = \", j)\n",
    "        if (j * e) % t == 1:\n",
    "            d = j\n",
    "            print(f\"Selected private key d = {d}\")\n",
    "            break\n",
    "        j += 1\n",
    "\n",
    "    # performing encryption\n",
    "    ct = (message ** e) % n\n",
    "    print(f\"Encrypted message is {ct}\")\n",
    "\n",
    "    # performing decryption\n",
    "    mes = (ct ** d) % n\n",
    "    print(f\"Decrypted message is {mes}\")\n",
    "\n",
    "# Testcase - 1\n",
    "# RSA(p=53, q=59, message=89)\n",
    "\n",
    "# Testcase - 2\n",
    "RSA(p=5, q=11, message=12)"
   ]
  }
 ],
 "metadata": {
  "kernelspec": {
   "display_name": "Python 3",
   "language": "python",
   "name": "python3"
  },
  "language_info": {
   "codemirror_mode": {
    "name": "ipython",
    "version": 3
   },
   "file_extension": ".py",
   "mimetype": "text/x-python",
   "name": "python",
   "nbconvert_exporter": "python",
   "pygments_lexer": "ipython3",
   "version": "3.11.3"
  }
 },
 "nbformat": 4,
 "nbformat_minor": 2
}
